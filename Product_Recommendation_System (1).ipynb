{
  "nbformat": 4,
  "nbformat_minor": 0,
  "metadata": {
    "colab": {
      "name": "Product Recommendation System.ipynb",
      "provenance": [],
      "collapsed_sections": [],
      "toc_visible": true
    },
    "kernelspec": {
      "name": "python3",
      "display_name": "Python 3"
    }
  },
  "cells": [
    {
      "cell_type": "markdown",
      "metadata": {
        "id": "KHRvbYvCj0ZT"
      },
      "source": [
        "# Recommendation Systems Using Collaborative filtering Approach\n",
        "We use Model base collaborative filtering approach using the K-nearest neighbour algorithm to buil our product recommendation system.\n",
        "\n",
        "## Outline\n",
        "  1. Setup\n",
        "  1. Downloading dataset\n",
        "  1. Exploring the Data\n",
        "  1. Building the Model"
      ]
    },
    {
      "cell_type": "markdown",
      "metadata": {
        "id": "PKPEDrkfxFPx"
      },
      "source": [
        "# Setup"
      ]
    },
    {
      "cell_type": "markdown",
      "metadata": {
        "id": "hiAj4ukFT17T"
      },
      "source": [
        "##Importing Required Libraries\n",
        "- gzip, urlopen and json libraries are required because our dataset is in the json.gz format \n",
        "- numpy and pandas are used to work with dataframe and to do mathematical calculations\n",
        "- matplotlib is used to visualize our dataset\n"
      ]
    },
    {
      "cell_type": "code",
      "metadata": {
        "id": "rV9GEdXI8ksd"
      },
      "source": [
        "import os\n",
        "import json\n",
        "import gzip\n",
        "from urllib.request import urlopen\n",
        "\n",
        "import numpy as np\n",
        "import pandas as pd\n",
        "\n",
        "import matplotlib.pyplot as plt"
      ],
      "execution_count": null,
      "outputs": []
    },
    {
      "cell_type": "code",
      "metadata": {
        "id": "3SJR0iYEkhE4"
      },
      "source": [
        "##  Add some convinience function to pandas dataframe\n",
        "\n",
        "pd.options.display.max_rows = 10\n",
        "pd.set_option('display.float_format', lambda x: '%.3f' % x)"
      ],
      "execution_count": null,
      "outputs": []
    },
    {
      "cell_type": "markdown",
      "metadata": {
        "id": "0414PRQUUj4p"
      },
      "source": [
        "##Defining Constants\n",
        "\n",
        "\n",
        "1.   no_of_ratings - The no of ratings to use from the 10,063,255 ratings in our ratings dataset\n",
        "3. popularity_threshold - our self defined threshold to filter product based on number of obtained ratings\n",
        "4. metric - metric to be used in the knn algorithm\n",
        "5. algorithm - algorithm to be used in the knn algorithm\n",
        "6. n_neighbours - no of neighbours to consider in knn\n",
        "\n",
        "\n",
        "\n"
      ]
    },
    {
      "cell_type": "code",
      "metadata": {
        "id": "Iyr7MFCeUnTg"
      },
      "source": [
        "no_of_ratings = 100000\n",
        "popularity_threshold = 100\n",
        "metric = 'cosine'\n",
        "algorithm = 'brute'\n",
        "n_neighbors = 10"
      ],
      "execution_count": null,
      "outputs": []
    },
    {
      "cell_type": "markdown",
      "metadata": {
        "id": "XNmW6G4-Pccs"
      },
      "source": [
        "#Downloading Dataset and setting up dataframe\n",
        " - we are using the Amazon 2018 product_rating (ratings only) and product_metadata dataset available at : https://nijianmo.github.io/amazon/index.html\n",
        " - The metadata dataset is present in the json.gz format and contains all the meta information regarding the product \n",
        "  - eg; product_id, name, price, category, description, brand, etc.\n",
        " - It contains 590,269 product details\n",
        " - The ratings dataset is present in the csv format and contains user, item, rating, timestamp tuples and contains 10,063,255 ratings of products\n",
        "\n",
        " "
      ]
    },
    {
      "cell_type": "code",
      "metadata": {
        "id": "i-UxHk-jHZD-",
        "outputId": "836c8530-3e49-4798-f78a-50b090b50bc8",
        "colab": {
          "base_uri": "https://localhost:8080/"
        }
      },
      "source": [
        "# ##  Downloading the dataset\n",
        "!wget http://deepyeti.ucsd.edu/jianmo/amazon/metaFiles/meta_Cell_Phones_and_Accessories.json.gz\n",
        "!wget http://deepyeti.ucsd.edu/jianmo/amazon/categoryFilesSmall/Cell_Phones_and_Accessories.csv"
      ],
      "execution_count": null,
      "outputs": [
        {
          "output_type": "stream",
          "text": [
            "--2020-10-07 09:12:22--  http://deepyeti.ucsd.edu/jianmo/amazon/metaFiles/meta_Cell_Phones_and_Accessories.json.gz\n",
            "Resolving deepyeti.ucsd.edu (deepyeti.ucsd.edu)... 169.228.63.50\n",
            "Connecting to deepyeti.ucsd.edu (deepyeti.ucsd.edu)|169.228.63.50|:80... connected.\n",
            "HTTP request sent, awaiting response... 200 OK\n",
            "Length: 348993553 (333M) [application/octet-stream]\n",
            "Saving to: ‘meta_Cell_Phones_and_Accessories.json.gz.2’\n",
            "\n",
            "meta_Cell_Phones_an 100%[===================>] 332.83M  5.33MB/s    in 41s     \n",
            "\n",
            "2020-10-07 09:13:03 (8.04 MB/s) - ‘meta_Cell_Phones_and_Accessories.json.gz.2’ saved [348993553/348993553]\n",
            "\n",
            "--2020-10-07 09:13:04--  http://deepyeti.ucsd.edu/jianmo/amazon/categoryFilesSmall/Cell_Phones_and_Accessories.csv\n",
            "Resolving deepyeti.ucsd.edu (deepyeti.ucsd.edu)... 169.228.63.50\n",
            "Connecting to deepyeti.ucsd.edu (deepyeti.ucsd.edu)|169.228.63.50|:80... connected.\n",
            "HTTP request sent, awaiting response... 200 OK\n",
            "Length: 420031077 (401M) [application/octet-stream]\n",
            "Saving to: ‘Cell_Phones_and_Accessories.csv.2’\n",
            "\n",
            "Cell_Phones_and_Acc 100%[===================>] 400.57M  37.5MB/s    in 14s     \n",
            "\n",
            "2020-10-07 09:13:17 (29.3 MB/s) - ‘Cell_Phones_and_Accessories.csv.2’ saved [420031077/420031077]\n",
            "\n"
          ],
          "name": "stdout"
        }
      ]
    },
    {
      "cell_type": "markdown",
      "metadata": {
        "id": "StnJtgQlwMBC"
      },
      "source": [
        "## Products Dataset"
      ]
    },
    {
      "cell_type": "code",
      "metadata": {
        "id": "f-xlDKoSIYM7"
      },
      "source": [
        "##  utility method to convert json.gz file into a dataframe\n",
        "'''\n",
        "  Args: \n",
        "    file_name : The name/URL of the file in json.gz format \n",
        "  Returns : \n",
        "    df : file converted into a pandas dataframe\n",
        "'''\n",
        "def gzipConverter(file_name):\n",
        "  data = []\n",
        "  with gzip.open(file_name) as f:\n",
        "      for l in f:\n",
        "          data.append(json.loads(l.strip()))\n",
        "  print(\"The Dataset \"+file_name+\" has \"+str(len(data))+\" examples\")\n",
        "  df = pd.DataFrame.from_dict(data)\n",
        "  return df"
      ],
      "execution_count": null,
      "outputs": []
    },
    {
      "cell_type": "code",
      "metadata": {
        "id": "yJqz6maXYi0_",
        "outputId": "7cbe5809-a165-4d4b-da02-adb3753479f0",
        "colab": {
          "base_uri": "https://localhost:8080/"
        }
      },
      "source": [
        "##  Converting files to dataframe by calling our utility method\n",
        "products = gzipConverter(\"meta_Cell_Phones_and_Accessories.json.gz\")\n",
        "products.info() # .info() gives info about columns of the dataset like the (no. of null and non-null values and data type)"
      ],
      "execution_count": null,
      "outputs": [
        {
          "output_type": "stream",
          "text": [
            "The Dataset meta_Cell_Phones_and_Accessories.json.gz has 590071 examples\n",
            "<class 'pandas.core.frame.DataFrame'>\n",
            "RangeIndex: 590071 entries, 0 to 590070\n",
            "Data columns (total 18 columns):\n",
            " #   Column        Non-Null Count   Dtype \n",
            "---  ------        --------------   ----- \n",
            " 0   category      590071 non-null  object\n",
            " 1   tech1         590071 non-null  object\n",
            " 2   description   590071 non-null  object\n",
            " 3   fit           590071 non-null  object\n",
            " 4   title         590071 non-null  object\n",
            " 5   also_buy      590071 non-null  object\n",
            " 6   image         590071 non-null  object\n",
            " 7   tech2         590071 non-null  object\n",
            " 8   brand         590071 non-null  object\n",
            " 9   feature       590071 non-null  object\n",
            " 10  rank          590071 non-null  object\n",
            " 11  also_view     590071 non-null  object\n",
            " 12  details       590071 non-null  object\n",
            " 13  main_cat      590071 non-null  object\n",
            " 14  similar_item  590071 non-null  object\n",
            " 15  date          590071 non-null  object\n",
            " 16  price         590071 non-null  object\n",
            " 17  asin          590071 non-null  object\n",
            "dtypes: object(18)\n",
            "memory usage: 81.0+ MB\n"
          ],
          "name": "stdout"
        }
      ]
    },
    {
      "cell_type": "code",
      "metadata": {
        "id": "B61ozgn8UA0j",
        "outputId": "b8713762-af92-4209-aad3-7e05fe8ff363",
        "colab": {
          "base_uri": "https://localhost:8080/"
        }
      },
      "source": [
        "##  Since, our dataset may Contain duplicates we check for unique values\n",
        "\n",
        "print(\"Number of unique products is \"+str(products[\"asin\"].nunique()))"
      ],
      "execution_count": null,
      "outputs": [
        {
          "output_type": "stream",
          "text": [
            "Number of unique products is 589356\n"
          ],
          "name": "stdout"
        }
      ]
    },
    {
      "cell_type": "markdown",
      "metadata": {
        "id": "7_mjLXzrSuUv"
      },
      "source": [
        "The product metadata dataset contains many extra columns which are not required hence we drop those columns.\n",
        "\n",
        "Also, we rename some columns and reorganize them to our convinience.\n",
        "\n",
        "Finally, we drop duplicates in \"product_id\" so we have only unique products left as that is what we require."
      ]
    },
    {
      "cell_type": "code",
      "metadata": {
        "id": "UwXatVBmSk80"
      },
      "source": [
        "##  dropping the columns which are not required\n",
        "products = products.drop(columns=[\"category\",\"tech1\",\"description\",\"fit\",\"also_buy\",\"tech2\",\"brand\",\"feature\", \"rank\", \"also_view\",\"image\" ,\"details\",\"main_cat\",\"similar_item\",\"date\",\"price\"])\n",
        "##  renaming columns\n",
        "products = products.rename(columns={\"asin\":\"product_id\",\"title\":\"product_name\"})\n",
        "##  reordering the columns\n",
        "products = products[[\"product_id\",\"product_name\"]]\n",
        "##  droppping duplicates in \"product_id\"\n",
        "products = products.drop_duplicates(subset=[\"product_id\"])"
      ],
      "execution_count": null,
      "outputs": []
    },
    {
      "cell_type": "markdown",
      "metadata": {
        "id": "IzfeJkeGwR-D"
      },
      "source": [
        "## Ratings Dataset"
      ]
    },
    {
      "cell_type": "code",
      "metadata": {
        "id": "m7ndzG1peURE"
      },
      "source": [
        "##  reading the ratings dataset\n",
        "##  Also, We only consider a part of our datatset hence we use nrows parameter to specify the no of rows to read\n",
        "ratings = pd.read_csv(\"Cell_Phones_and_Accessories.csv\", names = [\"product_id\",\"user_id\",\"product_rating\",\"timestamp\"], nrows = no_of_ratings)\n",
        "ratings = ratings.drop(columns=[\"timestamp\"]) # drop column"
      ],
      "execution_count": null,
      "outputs": []
    },
    {
      "cell_type": "code",
      "metadata": {
        "id": "M6PLBJV6bqRs",
        "outputId": "4e8b7045-45bb-47a7-d36d-4c583ec01f67",
        "colab": {
          "base_uri": "https://localhost:8080/"
        }
      },
      "source": [
        "ratings.info()"
      ],
      "execution_count": null,
      "outputs": [
        {
          "output_type": "stream",
          "text": [
            "<class 'pandas.core.frame.DataFrame'>\n",
            "RangeIndex: 100000 entries, 0 to 99999\n",
            "Data columns (total 3 columns):\n",
            " #   Column          Non-Null Count   Dtype  \n",
            "---  ------          --------------   -----  \n",
            " 0   product_id      100000 non-null  object \n",
            " 1   user_id         100000 non-null  object \n",
            " 2   product_rating  100000 non-null  float64\n",
            "dtypes: float64(1), object(2)\n",
            "memory usage: 2.3+ MB\n"
          ],
          "name": "stdout"
        }
      ]
    },
    {
      "cell_type": "code",
      "metadata": {
        "id": "QcVjJ7uxcLLF",
        "outputId": "46532fd2-af96-4ec2-82fa-7931e694c619",
        "colab": {
          "base_uri": "https://localhost:8080/",
          "height": 195
        }
      },
      "source": [
        "products.head()"
      ],
      "execution_count": null,
      "outputs": [
        {
          "output_type": "execute_result",
          "data": {
            "text/html": [
              "<div>\n",
              "<style scoped>\n",
              "    .dataframe tbody tr th:only-of-type {\n",
              "        vertical-align: middle;\n",
              "    }\n",
              "\n",
              "    .dataframe tbody tr th {\n",
              "        vertical-align: top;\n",
              "    }\n",
              "\n",
              "    .dataframe thead th {\n",
              "        text-align: right;\n",
              "    }\n",
              "</style>\n",
              "<table border=\"1\" class=\"dataframe\">\n",
              "  <thead>\n",
              "    <tr style=\"text-align: right;\">\n",
              "      <th></th>\n",
              "      <th>product_id</th>\n",
              "      <th>product_name</th>\n",
              "    </tr>\n",
              "  </thead>\n",
              "  <tbody>\n",
              "    <tr>\n",
              "      <th>0</th>\n",
              "      <td>6303195164</td>\n",
              "      <td>Trollies Sing a Long Party VHS</td>\n",
              "    </tr>\n",
              "    <tr>\n",
              "      <th>1</th>\n",
              "      <td>630524412X</td>\n",
              "      <td>La Pura VHS</td>\n",
              "    </tr>\n",
              "    <tr>\n",
              "      <th>2</th>\n",
              "      <td>6310200240</td>\n",
              "      <td>Leopard Thanksgiving Easter PC Black Case for ...</td>\n",
              "    </tr>\n",
              "    <tr>\n",
              "      <th>3</th>\n",
              "      <td>6786501710</td>\n",
              "      <td>Puppies Faceplate Hard Case Protector for Net1...</td>\n",
              "    </tr>\n",
              "    <tr>\n",
              "      <th>4</th>\n",
              "      <td>6786501273</td>\n",
              "      <td>White Wolf Faceplate Protector Hard Case for S...</td>\n",
              "    </tr>\n",
              "  </tbody>\n",
              "</table>\n",
              "</div>"
            ],
            "text/plain": [
              "   product_id                                       product_name\n",
              "0  6303195164                     Trollies Sing a Long Party VHS\n",
              "1  630524412X                                        La Pura VHS\n",
              "2  6310200240  Leopard Thanksgiving Easter PC Black Case for ...\n",
              "3  6786501710  Puppies Faceplate Hard Case Protector for Net1...\n",
              "4  6786501273  White Wolf Faceplate Protector Hard Case for S..."
            ]
          },
          "metadata": {
            "tags": []
          },
          "execution_count": 164
        }
      ]
    },
    {
      "cell_type": "code",
      "metadata": {
        "id": "BBHzbTbncNeW",
        "outputId": "ccaafdb2-8b2c-414a-b44a-9330ff7432ff",
        "colab": {
          "base_uri": "https://localhost:8080/",
          "height": 195
        }
      },
      "source": [
        "ratings.head()"
      ],
      "execution_count": null,
      "outputs": [
        {
          "output_type": "execute_result",
          "data": {
            "text/html": [
              "<div>\n",
              "<style scoped>\n",
              "    .dataframe tbody tr th:only-of-type {\n",
              "        vertical-align: middle;\n",
              "    }\n",
              "\n",
              "    .dataframe tbody tr th {\n",
              "        vertical-align: top;\n",
              "    }\n",
              "\n",
              "    .dataframe thead th {\n",
              "        text-align: right;\n",
              "    }\n",
              "</style>\n",
              "<table border=\"1\" class=\"dataframe\">\n",
              "  <thead>\n",
              "    <tr style=\"text-align: right;\">\n",
              "      <th></th>\n",
              "      <th>product_id</th>\n",
              "      <th>user_id</th>\n",
              "      <th>product_rating</th>\n",
              "    </tr>\n",
              "  </thead>\n",
              "  <tbody>\n",
              "    <tr>\n",
              "      <th>0</th>\n",
              "      <td>098949232X</td>\n",
              "      <td>A1GG51FWU0XQYH</td>\n",
              "      <td>5.000</td>\n",
              "    </tr>\n",
              "    <tr>\n",
              "      <th>1</th>\n",
              "      <td>098949232X</td>\n",
              "      <td>AVFIDS9RK38E0</td>\n",
              "      <td>5.000</td>\n",
              "    </tr>\n",
              "    <tr>\n",
              "      <th>2</th>\n",
              "      <td>098949232X</td>\n",
              "      <td>A2S4AVR5SJ7KMI</td>\n",
              "      <td>5.000</td>\n",
              "    </tr>\n",
              "    <tr>\n",
              "      <th>3</th>\n",
              "      <td>098949232X</td>\n",
              "      <td>AEMMMVOR9BFLI</td>\n",
              "      <td>5.000</td>\n",
              "    </tr>\n",
              "    <tr>\n",
              "      <th>4</th>\n",
              "      <td>098949232X</td>\n",
              "      <td>A2DZXMBTY7KLYP</td>\n",
              "      <td>5.000</td>\n",
              "    </tr>\n",
              "  </tbody>\n",
              "</table>\n",
              "</div>"
            ],
            "text/plain": [
              "   product_id         user_id  product_rating\n",
              "0  098949232X  A1GG51FWU0XQYH           5.000\n",
              "1  098949232X   AVFIDS9RK38E0           5.000\n",
              "2  098949232X  A2S4AVR5SJ7KMI           5.000\n",
              "3  098949232X   AEMMMVOR9BFLI           5.000\n",
              "4  098949232X  A2DZXMBTY7KLYP           5.000"
            ]
          },
          "metadata": {
            "tags": []
          },
          "execution_count": 165
        }
      ]
    },
    {
      "cell_type": "markdown",
      "metadata": {
        "id": "vztfrxawihHb"
      },
      "source": [
        "## Merging the dataframe \n",
        "  After obtaining our ratings and products dataframes we merge them on the product_id column and store the result in the \"result\" dataframe.\n",
        "  The result dataframe has the following structure :\n",
        "  - product_id, user_id, rating, product_name."
      ]
    },
    {
      "cell_type": "markdown",
      "metadata": {
        "id": "DbxbPe1Blhxu"
      },
      "source": [
        ""
      ]
    },
    {
      "cell_type": "code",
      "metadata": {
        "id": "V-jD9x8DcWWe"
      },
      "source": [
        "result = pd.merge(ratings, products, on=\"product_id\")"
      ],
      "execution_count": null,
      "outputs": []
    },
    {
      "cell_type": "code",
      "metadata": {
        "id": "gz03Gq43c63p",
        "outputId": "4b25161f-39de-43a1-a276-9999e900aaf6",
        "colab": {
          "base_uri": "https://localhost:8080/"
        }
      },
      "source": [
        "result.info()"
      ],
      "execution_count": null,
      "outputs": [
        {
          "output_type": "stream",
          "text": [
            "<class 'pandas.core.frame.DataFrame'>\n",
            "Int64Index: 98642 entries, 0 to 98641\n",
            "Data columns (total 4 columns):\n",
            " #   Column          Non-Null Count  Dtype  \n",
            "---  ------          --------------  -----  \n",
            " 0   product_id      98642 non-null  object \n",
            " 1   user_id         98642 non-null  object \n",
            " 2   product_rating  98642 non-null  float64\n",
            " 3   product_name    98642 non-null  object \n",
            "dtypes: float64(1), object(3)\n",
            "memory usage: 3.8+ MB\n"
          ],
          "name": "stdout"
        }
      ]
    },
    {
      "cell_type": "code",
      "metadata": {
        "id": "oGhJ9QcZdASr",
        "outputId": "752f72a4-cf44-46e6-aa39-50194e32ec52",
        "colab": {
          "base_uri": "https://localhost:8080/",
          "height": 195
        }
      },
      "source": [
        "result.head()"
      ],
      "execution_count": null,
      "outputs": [
        {
          "output_type": "execute_result",
          "data": {
            "text/html": [
              "<div>\n",
              "<style scoped>\n",
              "    .dataframe tbody tr th:only-of-type {\n",
              "        vertical-align: middle;\n",
              "    }\n",
              "\n",
              "    .dataframe tbody tr th {\n",
              "        vertical-align: top;\n",
              "    }\n",
              "\n",
              "    .dataframe thead th {\n",
              "        text-align: right;\n",
              "    }\n",
              "</style>\n",
              "<table border=\"1\" class=\"dataframe\">\n",
              "  <thead>\n",
              "    <tr style=\"text-align: right;\">\n",
              "      <th></th>\n",
              "      <th>product_id</th>\n",
              "      <th>user_id</th>\n",
              "      <th>product_rating</th>\n",
              "      <th>product_name</th>\n",
              "    </tr>\n",
              "  </thead>\n",
              "  <tbody>\n",
              "    <tr>\n",
              "      <th>0</th>\n",
              "      <td>7391002801</td>\n",
              "      <td>A236WRQL1MB9HM</td>\n",
              "      <td>5.000</td>\n",
              "      <td>Silver Elegant Butterfly Foot Ankle Chain Summ...</td>\n",
              "    </tr>\n",
              "    <tr>\n",
              "      <th>1</th>\n",
              "      <td>7391002801</td>\n",
              "      <td>AN04BLRG7BD8I</td>\n",
              "      <td>1.000</td>\n",
              "      <td>Silver Elegant Butterfly Foot Ankle Chain Summ...</td>\n",
              "    </tr>\n",
              "    <tr>\n",
              "      <th>2</th>\n",
              "      <td>7391002801</td>\n",
              "      <td>A3PHYA8A965CYU</td>\n",
              "      <td>1.000</td>\n",
              "      <td>Silver Elegant Butterfly Foot Ankle Chain Summ...</td>\n",
              "    </tr>\n",
              "    <tr>\n",
              "      <th>3</th>\n",
              "      <td>7391002801</td>\n",
              "      <td>A3N778P1L4YH9Y</td>\n",
              "      <td>1.000</td>\n",
              "      <td>Silver Elegant Butterfly Foot Ankle Chain Summ...</td>\n",
              "    </tr>\n",
              "    <tr>\n",
              "      <th>4</th>\n",
              "      <td>7391002801</td>\n",
              "      <td>A3PHJYND753HBC</td>\n",
              "      <td>5.000</td>\n",
              "      <td>Silver Elegant Butterfly Foot Ankle Chain Summ...</td>\n",
              "    </tr>\n",
              "  </tbody>\n",
              "</table>\n",
              "</div>"
            ],
            "text/plain": [
              "   product_id  ...                                       product_name\n",
              "0  7391002801  ...  Silver Elegant Butterfly Foot Ankle Chain Summ...\n",
              "1  7391002801  ...  Silver Elegant Butterfly Foot Ankle Chain Summ...\n",
              "2  7391002801  ...  Silver Elegant Butterfly Foot Ankle Chain Summ...\n",
              "3  7391002801  ...  Silver Elegant Butterfly Foot Ankle Chain Summ...\n",
              "4  7391002801  ...  Silver Elegant Butterfly Foot Ankle Chain Summ...\n",
              "\n",
              "[5 rows x 4 columns]"
            ]
          },
          "metadata": {
            "tags": []
          },
          "execution_count": 168
        }
      ]
    },
    {
      "cell_type": "markdown",
      "metadata": {
        "id": "EWbH5z9gltm0"
      },
      "source": [
        "# Exploring the obtained result\n",
        "Before we dive into model building, let's inspect our dataset."
      ]
    },
    {
      "cell_type": "code",
      "metadata": {
        "id": "PLiDkrg0ms9O",
        "outputId": "ff90ed38-1009-4372-897e-202da43c75f4",
        "colab": {
          "base_uri": "https://localhost:8080/"
        }
      },
      "source": [
        "## check for null values\n",
        "result.isnull().sum()"
      ],
      "execution_count": null,
      "outputs": [
        {
          "output_type": "execute_result",
          "data": {
            "text/plain": [
              "product_id        0\n",
              "user_id           0\n",
              "product_rating    0\n",
              "product_name      0\n",
              "dtype: int64"
            ]
          },
          "metadata": {
            "tags": []
          },
          "execution_count": 169
        }
      ]
    },
    {
      "cell_type": "code",
      "metadata": {
        "id": "cgQ_RbllnCL-",
        "outputId": "be178a7e-fca8-4a56-8188-f690deb70adb",
        "colab": {
          "base_uri": "https://localhost:8080/",
          "height": 284
        }
      },
      "source": [
        "##  describing the numeric features.\n",
        "result.describe()"
      ],
      "execution_count": null,
      "outputs": [
        {
          "output_type": "execute_result",
          "data": {
            "text/html": [
              "<div>\n",
              "<style scoped>\n",
              "    .dataframe tbody tr th:only-of-type {\n",
              "        vertical-align: middle;\n",
              "    }\n",
              "\n",
              "    .dataframe tbody tr th {\n",
              "        vertical-align: top;\n",
              "    }\n",
              "\n",
              "    .dataframe thead th {\n",
              "        text-align: right;\n",
              "    }\n",
              "</style>\n",
              "<table border=\"1\" class=\"dataframe\">\n",
              "  <thead>\n",
              "    <tr style=\"text-align: right;\">\n",
              "      <th></th>\n",
              "      <th>product_rating</th>\n",
              "    </tr>\n",
              "  </thead>\n",
              "  <tbody>\n",
              "    <tr>\n",
              "      <th>count</th>\n",
              "      <td>98642.000</td>\n",
              "    </tr>\n",
              "    <tr>\n",
              "      <th>mean</th>\n",
              "      <td>3.738</td>\n",
              "    </tr>\n",
              "    <tr>\n",
              "      <th>std</th>\n",
              "      <td>1.495</td>\n",
              "    </tr>\n",
              "    <tr>\n",
              "      <th>min</th>\n",
              "      <td>1.000</td>\n",
              "    </tr>\n",
              "    <tr>\n",
              "      <th>25%</th>\n",
              "      <td>3.000</td>\n",
              "    </tr>\n",
              "    <tr>\n",
              "      <th>50%</th>\n",
              "      <td>4.000</td>\n",
              "    </tr>\n",
              "    <tr>\n",
              "      <th>75%</th>\n",
              "      <td>5.000</td>\n",
              "    </tr>\n",
              "    <tr>\n",
              "      <th>max</th>\n",
              "      <td>5.000</td>\n",
              "    </tr>\n",
              "  </tbody>\n",
              "</table>\n",
              "</div>"
            ],
            "text/plain": [
              "       product_rating\n",
              "count       98642.000\n",
              "mean            3.738\n",
              "std             1.495\n",
              "min             1.000\n",
              "25%             3.000\n",
              "50%             4.000\n",
              "75%             5.000\n",
              "max             5.000"
            ]
          },
          "metadata": {
            "tags": []
          },
          "execution_count": 170
        }
      ]
    },
    {
      "cell_type": "code",
      "metadata": {
        "id": "2gAokGpQnHq9",
        "outputId": "0c383d29-fe9e-43d2-e327-3834f33a8521",
        "colab": {
          "base_uri": "https://localhost:8080/",
          "height": 166
        }
      },
      "source": [
        "##  describing the categorical features.\n",
        "result.describe(include=[np.object])"
      ],
      "execution_count": null,
      "outputs": [
        {
          "output_type": "execute_result",
          "data": {
            "text/html": [
              "<div>\n",
              "<style scoped>\n",
              "    .dataframe tbody tr th:only-of-type {\n",
              "        vertical-align: middle;\n",
              "    }\n",
              "\n",
              "    .dataframe tbody tr th {\n",
              "        vertical-align: top;\n",
              "    }\n",
              "\n",
              "    .dataframe thead th {\n",
              "        text-align: right;\n",
              "    }\n",
              "</style>\n",
              "<table border=\"1\" class=\"dataframe\">\n",
              "  <thead>\n",
              "    <tr style=\"text-align: right;\">\n",
              "      <th></th>\n",
              "      <th>product_id</th>\n",
              "      <th>user_id</th>\n",
              "      <th>product_name</th>\n",
              "    </tr>\n",
              "  </thead>\n",
              "  <tbody>\n",
              "    <tr>\n",
              "      <th>count</th>\n",
              "      <td>98642</td>\n",
              "      <td>98642</td>\n",
              "      <td>98642</td>\n",
              "    </tr>\n",
              "    <tr>\n",
              "      <th>unique</th>\n",
              "      <td>1537</td>\n",
              "      <td>76419</td>\n",
              "      <td>1536</td>\n",
              "    </tr>\n",
              "    <tr>\n",
              "      <th>top</th>\n",
              "      <td>B0013G8PTS</td>\n",
              "      <td>A5JLAU2ARJ0BO</td>\n",
              "      <td>New Trent: iTorch 5200mAh Ultra Portable USB P...</td>\n",
              "    </tr>\n",
              "    <tr>\n",
              "      <th>freq</th>\n",
              "      <td>3594</td>\n",
              "      <td>23</td>\n",
              "      <td>3594</td>\n",
              "    </tr>\n",
              "  </tbody>\n",
              "</table>\n",
              "</div>"
            ],
            "text/plain": [
              "        product_id  ...                                       product_name\n",
              "count        98642  ...                                              98642\n",
              "unique        1537  ...                                               1536\n",
              "top     B0013G8PTS  ...  New Trent: iTorch 5200mAh Ultra Portable USB P...\n",
              "freq          3594  ...                                               3594\n",
              "\n",
              "[4 rows x 3 columns]"
            ]
          },
          "metadata": {
            "tags": []
          },
          "execution_count": 171
        }
      ]
    },
    {
      "cell_type": "code",
      "metadata": {
        "id": "Ig_vgcSY8Zci",
        "outputId": "117eeb98-be46-46c2-cf6b-4e3af59856bf",
        "colab": {
          "base_uri": "https://localhost:8080/",
          "height": 343
        }
      },
      "source": [
        "result.head(10)"
      ],
      "execution_count": null,
      "outputs": [
        {
          "output_type": "execute_result",
          "data": {
            "text/html": [
              "<div>\n",
              "<style scoped>\n",
              "    .dataframe tbody tr th:only-of-type {\n",
              "        vertical-align: middle;\n",
              "    }\n",
              "\n",
              "    .dataframe tbody tr th {\n",
              "        vertical-align: top;\n",
              "    }\n",
              "\n",
              "    .dataframe thead th {\n",
              "        text-align: right;\n",
              "    }\n",
              "</style>\n",
              "<table border=\"1\" class=\"dataframe\">\n",
              "  <thead>\n",
              "    <tr style=\"text-align: right;\">\n",
              "      <th></th>\n",
              "      <th>product_id</th>\n",
              "      <th>user_id</th>\n",
              "      <th>product_rating</th>\n",
              "      <th>product_name</th>\n",
              "    </tr>\n",
              "  </thead>\n",
              "  <tbody>\n",
              "    <tr>\n",
              "      <th>0</th>\n",
              "      <td>7391002801</td>\n",
              "      <td>A236WRQL1MB9HM</td>\n",
              "      <td>5.000</td>\n",
              "      <td>Silver Elegant Butterfly Foot Ankle Chain Summ...</td>\n",
              "    </tr>\n",
              "    <tr>\n",
              "      <th>1</th>\n",
              "      <td>7391002801</td>\n",
              "      <td>AN04BLRG7BD8I</td>\n",
              "      <td>1.000</td>\n",
              "      <td>Silver Elegant Butterfly Foot Ankle Chain Summ...</td>\n",
              "    </tr>\n",
              "    <tr>\n",
              "      <th>2</th>\n",
              "      <td>7391002801</td>\n",
              "      <td>A3PHYA8A965CYU</td>\n",
              "      <td>1.000</td>\n",
              "      <td>Silver Elegant Butterfly Foot Ankle Chain Summ...</td>\n",
              "    </tr>\n",
              "    <tr>\n",
              "      <th>3</th>\n",
              "      <td>7391002801</td>\n",
              "      <td>A3N778P1L4YH9Y</td>\n",
              "      <td>1.000</td>\n",
              "      <td>Silver Elegant Butterfly Foot Ankle Chain Summ...</td>\n",
              "    </tr>\n",
              "    <tr>\n",
              "      <th>4</th>\n",
              "      <td>7391002801</td>\n",
              "      <td>A3PHJYND753HBC</td>\n",
              "      <td>5.000</td>\n",
              "      <td>Silver Elegant Butterfly Foot Ankle Chain Summ...</td>\n",
              "    </tr>\n",
              "    <tr>\n",
              "      <th>5</th>\n",
              "      <td>7391002801</td>\n",
              "      <td>A1SUHZO4ONJ5YC</td>\n",
              "      <td>5.000</td>\n",
              "      <td>Silver Elegant Butterfly Foot Ankle Chain Summ...</td>\n",
              "    </tr>\n",
              "    <tr>\n",
              "      <th>6</th>\n",
              "      <td>7391002801</td>\n",
              "      <td>A1AZIJDCHHOV3C</td>\n",
              "      <td>5.000</td>\n",
              "      <td>Silver Elegant Butterfly Foot Ankle Chain Summ...</td>\n",
              "    </tr>\n",
              "    <tr>\n",
              "      <th>7</th>\n",
              "      <td>7391002801</td>\n",
              "      <td>A2BT5Z3HVP54FR</td>\n",
              "      <td>5.000</td>\n",
              "      <td>Silver Elegant Butterfly Foot Ankle Chain Summ...</td>\n",
              "    </tr>\n",
              "    <tr>\n",
              "      <th>8</th>\n",
              "      <td>7391002801</td>\n",
              "      <td>AYKEFVYYZE9OS</td>\n",
              "      <td>5.000</td>\n",
              "      <td>Silver Elegant Butterfly Foot Ankle Chain Summ...</td>\n",
              "    </tr>\n",
              "    <tr>\n",
              "      <th>9</th>\n",
              "      <td>7391002801</td>\n",
              "      <td>ALEPF6QI6IOHV</td>\n",
              "      <td>5.000</td>\n",
              "      <td>Silver Elegant Butterfly Foot Ankle Chain Summ...</td>\n",
              "    </tr>\n",
              "  </tbody>\n",
              "</table>\n",
              "</div>"
            ],
            "text/plain": [
              "   product_id  ...                                       product_name\n",
              "0  7391002801  ...  Silver Elegant Butterfly Foot Ankle Chain Summ...\n",
              "1  7391002801  ...  Silver Elegant Butterfly Foot Ankle Chain Summ...\n",
              "2  7391002801  ...  Silver Elegant Butterfly Foot Ankle Chain Summ...\n",
              "3  7391002801  ...  Silver Elegant Butterfly Foot Ankle Chain Summ...\n",
              "4  7391002801  ...  Silver Elegant Butterfly Foot Ankle Chain Summ...\n",
              "5  7391002801  ...  Silver Elegant Butterfly Foot Ankle Chain Summ...\n",
              "6  7391002801  ...  Silver Elegant Butterfly Foot Ankle Chain Summ...\n",
              "7  7391002801  ...  Silver Elegant Butterfly Foot Ankle Chain Summ...\n",
              "8  7391002801  ...  Silver Elegant Butterfly Foot Ankle Chain Summ...\n",
              "9  7391002801  ...  Silver Elegant Butterfly Foot Ankle Chain Summ...\n",
              "\n",
              "[10 rows x 4 columns]"
            ]
          },
          "metadata": {
            "tags": []
          },
          "execution_count": 172
        }
      ]
    },
    {
      "cell_type": "markdown",
      "metadata": {
        "id": "q5GMrKk7mtVL"
      },
      "source": [
        "# Model Building\n",
        "There are 4 parts in building the knn model:\n",
        "1. obtaining the total rating count for each product\n",
        "2. sorting the products on a given threshold\n",
        "3. obtaining the user-item interaction matrix\n",
        "4. training the model on the obtained matrix"
      ]
    },
    {
      "cell_type": "markdown",
      "metadata": {
        "id": "3zbP_TUBrC5a"
      },
      "source": [
        "## Obtaining the total rating count\n",
        "we calculate the total rating count for each product as we only want those products which have been rated a certain number of times as items with lower number of rating count indicates not many people viewed the product"
      ]
    },
    {
      "cell_type": "code",
      "metadata": {
        "id": "RvMUGhl8dC1d",
        "outputId": "9b0b84ae-2c5a-4225-be69-cc01a06f87b1",
        "colab": {
          "base_uri": "https://localhost:8080/",
          "height": 195
        }
      },
      "source": [
        "product_ratingCount = (result.\n",
        "     groupby(by = ['product_name'])['product_rating'].\n",
        "     count().\n",
        "     reset_index().\n",
        "     rename(columns = {'product_rating': 'totalRatingCount'})\n",
        "     [['product_name', 'totalRatingCount']]\n",
        "    )\n",
        "product_ratingCount.head()"
      ],
      "execution_count": null,
      "outputs": [
        {
          "output_type": "execute_result",
          "data": {
            "text/html": [
              "<div>\n",
              "<style scoped>\n",
              "    .dataframe tbody tr th:only-of-type {\n",
              "        vertical-align: middle;\n",
              "    }\n",
              "\n",
              "    .dataframe tbody tr th {\n",
              "        vertical-align: top;\n",
              "    }\n",
              "\n",
              "    .dataframe thead th {\n",
              "        text-align: right;\n",
              "    }\n",
              "</style>\n",
              "<table border=\"1\" class=\"dataframe\">\n",
              "  <thead>\n",
              "    <tr style=\"text-align: right;\">\n",
              "      <th></th>\n",
              "      <th>product_name</th>\n",
              "      <th>totalRatingCount</th>\n",
              "    </tr>\n",
              "  </thead>\n",
              "  <tbody>\n",
              "    <tr>\n",
              "      <th>0</th>\n",
              "      <td>AccessoryOne Crystal Clear Hard Case for LG V...</td>\n",
              "      <td>36</td>\n",
              "    </tr>\n",
              "    <tr>\n",
              "      <th>1</th>\n",
              "      <td>BlackBerry Bluetooth Headset - Black</td>\n",
              "      <td>55</td>\n",
              "    </tr>\n",
              "    <tr>\n",
              "      <th>2</th>\n",
              "      <td>BlackBerry Pearl 8120 Phone, Titanium (T-Mobile)</td>\n",
              "      <td>16</td>\n",
              "    </tr>\n",
              "    <tr>\n",
              "      <th>3</th>\n",
              "      <td>Body Glove Glove Snap-On  Case for Samsung M520</td>\n",
              "      <td>14</td>\n",
              "    </tr>\n",
              "    <tr>\n",
              "      <th>4</th>\n",
              "      <td>DLO - Philips Hip Case Leather Sleeve with Be...</td>\n",
              "      <td>6</td>\n",
              "    </tr>\n",
              "  </tbody>\n",
              "</table>\n",
              "</div>"
            ],
            "text/plain": [
              "                                        product_name  totalRatingCount\n",
              "0   AccessoryOne Crystal Clear Hard Case for LG V...                36\n",
              "1               BlackBerry Bluetooth Headset - Black                55\n",
              "2   BlackBerry Pearl 8120 Phone, Titanium (T-Mobile)                16\n",
              "3    Body Glove Glove Snap-On  Case for Samsung M520                14\n",
              "4   DLO - Philips Hip Case Leather Sleeve with Be...                 6"
            ]
          },
          "metadata": {
            "tags": []
          },
          "execution_count": 173
        }
      ]
    },
    {
      "cell_type": "code",
      "metadata": {
        "id": "y2o23hshekYV",
        "outputId": "e1e42226-7817-49b0-8fb0-f91cc8171005",
        "colab": {
          "base_uri": "https://localhost:8080/",
          "height": 195
        }
      },
      "source": [
        "##  Merge the obtained dataframe into our previously obtained result dataframe\n",
        "\n",
        "rating_with_totalRatingCount = result.merge(product_ratingCount, on=\"product_name\")\n",
        "rating_with_totalRatingCount.head()"
      ],
      "execution_count": null,
      "outputs": [
        {
          "output_type": "execute_result",
          "data": {
            "text/html": [
              "<div>\n",
              "<style scoped>\n",
              "    .dataframe tbody tr th:only-of-type {\n",
              "        vertical-align: middle;\n",
              "    }\n",
              "\n",
              "    .dataframe tbody tr th {\n",
              "        vertical-align: top;\n",
              "    }\n",
              "\n",
              "    .dataframe thead th {\n",
              "        text-align: right;\n",
              "    }\n",
              "</style>\n",
              "<table border=\"1\" class=\"dataframe\">\n",
              "  <thead>\n",
              "    <tr style=\"text-align: right;\">\n",
              "      <th></th>\n",
              "      <th>product_id</th>\n",
              "      <th>user_id</th>\n",
              "      <th>product_rating</th>\n",
              "      <th>product_name</th>\n",
              "      <th>totalRatingCount</th>\n",
              "    </tr>\n",
              "  </thead>\n",
              "  <tbody>\n",
              "    <tr>\n",
              "      <th>0</th>\n",
              "      <td>7391002801</td>\n",
              "      <td>A236WRQL1MB9HM</td>\n",
              "      <td>5.000</td>\n",
              "      <td>Silver Elegant Butterfly Foot Ankle Chain Summ...</td>\n",
              "      <td>21</td>\n",
              "    </tr>\n",
              "    <tr>\n",
              "      <th>1</th>\n",
              "      <td>7391002801</td>\n",
              "      <td>AN04BLRG7BD8I</td>\n",
              "      <td>1.000</td>\n",
              "      <td>Silver Elegant Butterfly Foot Ankle Chain Summ...</td>\n",
              "      <td>21</td>\n",
              "    </tr>\n",
              "    <tr>\n",
              "      <th>2</th>\n",
              "      <td>7391002801</td>\n",
              "      <td>A3PHYA8A965CYU</td>\n",
              "      <td>1.000</td>\n",
              "      <td>Silver Elegant Butterfly Foot Ankle Chain Summ...</td>\n",
              "      <td>21</td>\n",
              "    </tr>\n",
              "    <tr>\n",
              "      <th>3</th>\n",
              "      <td>7391002801</td>\n",
              "      <td>A3N778P1L4YH9Y</td>\n",
              "      <td>1.000</td>\n",
              "      <td>Silver Elegant Butterfly Foot Ankle Chain Summ...</td>\n",
              "      <td>21</td>\n",
              "    </tr>\n",
              "    <tr>\n",
              "      <th>4</th>\n",
              "      <td>7391002801</td>\n",
              "      <td>A3PHJYND753HBC</td>\n",
              "      <td>5.000</td>\n",
              "      <td>Silver Elegant Butterfly Foot Ankle Chain Summ...</td>\n",
              "      <td>21</td>\n",
              "    </tr>\n",
              "  </tbody>\n",
              "</table>\n",
              "</div>"
            ],
            "text/plain": [
              "   product_id  ... totalRatingCount\n",
              "0  7391002801  ...               21\n",
              "1  7391002801  ...               21\n",
              "2  7391002801  ...               21\n",
              "3  7391002801  ...               21\n",
              "4  7391002801  ...               21\n",
              "\n",
              "[5 rows x 5 columns]"
            ]
          },
          "metadata": {
            "tags": []
          },
          "execution_count": 174
        }
      ]
    },
    {
      "cell_type": "markdown",
      "metadata": {
        "id": "33ioGG6rsJ11"
      },
      "source": [
        "##  sorting products based on total count\n",
        "\n",
        "Now, out of all the products we have, we remove the ones having rating count less than our required threshold "
      ]
    },
    {
      "cell_type": "code",
      "metadata": {
        "id": "Ucv4BJqif2BO",
        "outputId": "cab1a52f-180d-4c88-c75a-13183656f117",
        "colab": {
          "base_uri": "https://localhost:8080/",
          "height": 195
        }
      },
      "source": [
        "popularity_threshold\n",
        "rating_popular_product= rating_with_totalRatingCount.query('totalRatingCount >= @popularity_threshold')\n",
        "rating_popular_product.head()"
      ],
      "execution_count": null,
      "outputs": [
        {
          "output_type": "execute_result",
          "data": {
            "text/html": [
              "<div>\n",
              "<style scoped>\n",
              "    .dataframe tbody tr th:only-of-type {\n",
              "        vertical-align: middle;\n",
              "    }\n",
              "\n",
              "    .dataframe tbody tr th {\n",
              "        vertical-align: top;\n",
              "    }\n",
              "\n",
              "    .dataframe thead th {\n",
              "        text-align: right;\n",
              "    }\n",
              "</style>\n",
              "<table border=\"1\" class=\"dataframe\">\n",
              "  <thead>\n",
              "    <tr style=\"text-align: right;\">\n",
              "      <th></th>\n",
              "      <th>product_id</th>\n",
              "      <th>user_id</th>\n",
              "      <th>product_rating</th>\n",
              "      <th>product_name</th>\n",
              "      <th>totalRatingCount</th>\n",
              "    </tr>\n",
              "  </thead>\n",
              "  <tbody>\n",
              "    <tr>\n",
              "      <th>21</th>\n",
              "      <td>7508492919</td>\n",
              "      <td>A2QYXOTOH48UPL</td>\n",
              "      <td>4.000</td>\n",
              "      <td>MinisDesign 3d Bling Crystal Bow Transparent C...</td>\n",
              "      <td>425</td>\n",
              "    </tr>\n",
              "    <tr>\n",
              "      <th>22</th>\n",
              "      <td>7508492919</td>\n",
              "      <td>AXEYG8HEBYJ2J</td>\n",
              "      <td>5.000</td>\n",
              "      <td>MinisDesign 3d Bling Crystal Bow Transparent C...</td>\n",
              "      <td>425</td>\n",
              "    </tr>\n",
              "    <tr>\n",
              "      <th>23</th>\n",
              "      <td>7508492919</td>\n",
              "      <td>A3GANKVAWCKBEO</td>\n",
              "      <td>3.000</td>\n",
              "      <td>MinisDesign 3d Bling Crystal Bow Transparent C...</td>\n",
              "      <td>425</td>\n",
              "    </tr>\n",
              "    <tr>\n",
              "      <th>24</th>\n",
              "      <td>7508492919</td>\n",
              "      <td>A2LSM802TM3IZC</td>\n",
              "      <td>4.000</td>\n",
              "      <td>MinisDesign 3d Bling Crystal Bow Transparent C...</td>\n",
              "      <td>425</td>\n",
              "    </tr>\n",
              "    <tr>\n",
              "      <th>25</th>\n",
              "      <td>7508492919</td>\n",
              "      <td>A33YGJ0M8OQXQD</td>\n",
              "      <td>3.000</td>\n",
              "      <td>MinisDesign 3d Bling Crystal Bow Transparent C...</td>\n",
              "      <td>425</td>\n",
              "    </tr>\n",
              "  </tbody>\n",
              "</table>\n",
              "</div>"
            ],
            "text/plain": [
              "    product_id  ... totalRatingCount\n",
              "21  7508492919  ...              425\n",
              "22  7508492919  ...              425\n",
              "23  7508492919  ...              425\n",
              "24  7508492919  ...              425\n",
              "25  7508492919  ...              425\n",
              "\n",
              "[5 rows x 5 columns]"
            ]
          },
          "metadata": {
            "tags": []
          },
          "execution_count": 175
        }
      ]
    },
    {
      "cell_type": "code",
      "metadata": {
        "id": "i3s6Fe--oMfm",
        "outputId": "7448d240-0c89-414a-9d6e-0daef5c9dfe2",
        "colab": {
          "base_uri": "https://localhost:8080/",
          "height": 402
        }
      },
      "source": [
        "##  As we dropped rows we need to reset our row indexes\n",
        "\n",
        "rating_popular_product.reset_index(drop=True)"
      ],
      "execution_count": null,
      "outputs": [
        {
          "output_type": "execute_result",
          "data": {
            "text/html": [
              "<div>\n",
              "<style scoped>\n",
              "    .dataframe tbody tr th:only-of-type {\n",
              "        vertical-align: middle;\n",
              "    }\n",
              "\n",
              "    .dataframe tbody tr th {\n",
              "        vertical-align: top;\n",
              "    }\n",
              "\n",
              "    .dataframe thead th {\n",
              "        text-align: right;\n",
              "    }\n",
              "</style>\n",
              "<table border=\"1\" class=\"dataframe\">\n",
              "  <thead>\n",
              "    <tr style=\"text-align: right;\">\n",
              "      <th></th>\n",
              "      <th>product_id</th>\n",
              "      <th>user_id</th>\n",
              "      <th>product_rating</th>\n",
              "      <th>product_name</th>\n",
              "      <th>totalRatingCount</th>\n",
              "    </tr>\n",
              "  </thead>\n",
              "  <tbody>\n",
              "    <tr>\n",
              "      <th>0</th>\n",
              "      <td>7508492919</td>\n",
              "      <td>A2QYXOTOH48UPL</td>\n",
              "      <td>4.000</td>\n",
              "      <td>MinisDesign 3d Bling Crystal Bow Transparent C...</td>\n",
              "      <td>425</td>\n",
              "    </tr>\n",
              "    <tr>\n",
              "      <th>1</th>\n",
              "      <td>7508492919</td>\n",
              "      <td>AXEYG8HEBYJ2J</td>\n",
              "      <td>5.000</td>\n",
              "      <td>MinisDesign 3d Bling Crystal Bow Transparent C...</td>\n",
              "      <td>425</td>\n",
              "    </tr>\n",
              "    <tr>\n",
              "      <th>2</th>\n",
              "      <td>7508492919</td>\n",
              "      <td>A3GANKVAWCKBEO</td>\n",
              "      <td>3.000</td>\n",
              "      <td>MinisDesign 3d Bling Crystal Bow Transparent C...</td>\n",
              "      <td>425</td>\n",
              "    </tr>\n",
              "    <tr>\n",
              "      <th>3</th>\n",
              "      <td>7508492919</td>\n",
              "      <td>A2LSM802TM3IZC</td>\n",
              "      <td>4.000</td>\n",
              "      <td>MinisDesign 3d Bling Crystal Bow Transparent C...</td>\n",
              "      <td>425</td>\n",
              "    </tr>\n",
              "    <tr>\n",
              "      <th>4</th>\n",
              "      <td>7508492919</td>\n",
              "      <td>A33YGJ0M8OQXQD</td>\n",
              "      <td>3.000</td>\n",
              "      <td>MinisDesign 3d Bling Crystal Bow Transparent C...</td>\n",
              "      <td>425</td>\n",
              "    </tr>\n",
              "    <tr>\n",
              "      <th>...</th>\n",
              "      <td>...</td>\n",
              "      <td>...</td>\n",
              "      <td>...</td>\n",
              "      <td>...</td>\n",
              "      <td>...</td>\n",
              "    </tr>\n",
              "    <tr>\n",
              "      <th>68882</th>\n",
              "      <td>B001AHU6QU</td>\n",
              "      <td>ACJ2GMM9TD5N9</td>\n",
              "      <td>1.000</td>\n",
              "      <td>HDE Universal Mobile Cell Phone Battery Charger</td>\n",
              "      <td>199</td>\n",
              "    </tr>\n",
              "    <tr>\n",
              "      <th>68883</th>\n",
              "      <td>B001AHU6QU</td>\n",
              "      <td>A3DL2PWXLP2AV8</td>\n",
              "      <td>2.000</td>\n",
              "      <td>HDE Universal Mobile Cell Phone Battery Charger</td>\n",
              "      <td>199</td>\n",
              "    </tr>\n",
              "    <tr>\n",
              "      <th>68884</th>\n",
              "      <td>B001AHU6QU</td>\n",
              "      <td>AM2MGQN9XBTI9</td>\n",
              "      <td>3.000</td>\n",
              "      <td>HDE Universal Mobile Cell Phone Battery Charger</td>\n",
              "      <td>199</td>\n",
              "    </tr>\n",
              "    <tr>\n",
              "      <th>68885</th>\n",
              "      <td>B001AHU6QU</td>\n",
              "      <td>A337E54HNMP5CU</td>\n",
              "      <td>1.000</td>\n",
              "      <td>HDE Universal Mobile Cell Phone Battery Charger</td>\n",
              "      <td>199</td>\n",
              "    </tr>\n",
              "    <tr>\n",
              "      <th>68886</th>\n",
              "      <td>B001AHU6QU</td>\n",
              "      <td>A2KBX7S9QOFE83</td>\n",
              "      <td>1.000</td>\n",
              "      <td>HDE Universal Mobile Cell Phone Battery Charger</td>\n",
              "      <td>199</td>\n",
              "    </tr>\n",
              "  </tbody>\n",
              "</table>\n",
              "<p>68887 rows × 5 columns</p>\n",
              "</div>"
            ],
            "text/plain": [
              "       product_id  ... totalRatingCount\n",
              "0      7508492919  ...              425\n",
              "1      7508492919  ...              425\n",
              "2      7508492919  ...              425\n",
              "3      7508492919  ...              425\n",
              "4      7508492919  ...              425\n",
              "...           ...  ...              ...\n",
              "68882  B001AHU6QU  ...              199\n",
              "68883  B001AHU6QU  ...              199\n",
              "68884  B001AHU6QU  ...              199\n",
              "68885  B001AHU6QU  ...              199\n",
              "68886  B001AHU6QU  ...              199\n",
              "\n",
              "[68887 rows x 5 columns]"
            ]
          },
          "metadata": {
            "tags": []
          },
          "execution_count": 176
        }
      ]
    },
    {
      "cell_type": "code",
      "metadata": {
        "id": "mQftVw54ggiK",
        "outputId": "b39f1598-056e-4986-fe5c-b34251589cc5",
        "colab": {
          "base_uri": "https://localhost:8080/"
        }
      },
      "source": [
        "rating_popular_product.shape"
      ],
      "execution_count": null,
      "outputs": [
        {
          "output_type": "execute_result",
          "data": {
            "text/plain": [
              "(68887, 5)"
            ]
          },
          "metadata": {
            "tags": []
          },
          "execution_count": 177
        }
      ]
    },
    {
      "cell_type": "code",
      "metadata": {
        "id": "lsxMwIVk4ua1",
        "outputId": "35abd5d8-3b21-4ede-dba9-39cc6131839d",
        "colab": {
          "base_uri": "https://localhost:8080/"
        }
      },
      "source": [
        "print(\"There are \"+str(rating_popular_product[\"product_id\"].nunique())+\" unique products\")\n",
        "print(\"There are \"+str(rating_popular_product[\"user_id\"].nunique())+\" unique users\")"
      ],
      "execution_count": null,
      "outputs": [
        {
          "output_type": "stream",
          "text": [
            "There are 203 unique products\n",
            "There are 52921 unique users\n"
          ],
          "name": "stdout"
        }
      ]
    },
    {
      "cell_type": "markdown",
      "metadata": {
        "id": "BWx2WrSWs5wk"
      },
      "source": [
        "## Creating the user item interaction matrix\n",
        "The user-item interaction matrix gives us the relation between the rating given by a user to a product.\n",
        "\n",
        "It gives the 1-1 relation between each user and product."
      ]
    },
    {
      "cell_type": "code",
      "metadata": {
        "id": "YeL8rfr9gjza",
        "outputId": "f6815f23-d2f0-4357-bc35-dd4dd325aeae",
        "colab": {
          "base_uri": "https://localhost:8080/",
          "height": 862
        }
      },
      "source": [
        "## Now lets create a Pivot matrix\n",
        "product_features_df=rating_popular_product.pivot_table(index='product_name',columns='user_id',values='product_rating').fillna(0)\n",
        "product_features_df.head()"
      ],
      "execution_count": null,
      "outputs": [
        {
          "output_type": "execute_result",
          "data": {
            "text/html": [
              "<div>\n",
              "<style scoped>\n",
              "    .dataframe tbody tr th:only-of-type {\n",
              "        vertical-align: middle;\n",
              "    }\n",
              "\n",
              "    .dataframe tbody tr th {\n",
              "        vertical-align: top;\n",
              "    }\n",
              "\n",
              "    .dataframe thead th {\n",
              "        text-align: right;\n",
              "    }\n",
              "</style>\n",
              "<table border=\"1\" class=\"dataframe\">\n",
              "  <thead>\n",
              "    <tr style=\"text-align: right;\">\n",
              "      <th>user_id</th>\n",
              "      <th>A00667434IRZ5OQ49GOS</th>\n",
              "      <th>A0182878NKLSMDW72873</th>\n",
              "      <th>A02635363YZWI9MI13CD</th>\n",
              "      <th>A0265436JMR91F9LHBXT</th>\n",
              "      <th>A0382166N9KCX0VEH72W</th>\n",
              "      <th>A0385843DE41TCVXH2I1</th>\n",
              "      <th>A03964908B3Z3LT71NHU</th>\n",
              "      <th>A0564474RQMYYH3H95UC</th>\n",
              "      <th>A0580508TVJYNL46WJBJ</th>\n",
              "      <th>A0651739GZEV56UR6T54</th>\n",
              "      <th>A0694928SHNEV83LPLRW</th>\n",
              "      <th>A0755549VZ3OU6OE9EHO</th>\n",
              "      <th>A0804728KHF2EYL9C477</th>\n",
              "      <th>A0950144Z8AAFXJIXH4L</th>\n",
              "      <th>A09781781CO6UDP1IQGW</th>\n",
              "      <th>A1002ASB2WQ87Q</th>\n",
              "      <th>A1007OOXKZK6ZR</th>\n",
              "      <th>A1007QNV235TUF</th>\n",
              "      <th>A1009BUD60IYKK</th>\n",
              "      <th>A1009TBUDN3H8V</th>\n",
              "      <th>A100B02BTA460R</th>\n",
              "      <th>A100F0AYHEM2DY</th>\n",
              "      <th>A100G5UY0C4D8U</th>\n",
              "      <th>A100GL8WF4V2TZ</th>\n",
              "      <th>A100HB8VV1PI5</th>\n",
              "      <th>A100JQP583VW7M</th>\n",
              "      <th>A100MPD67FD3ID</th>\n",
              "      <th>A100MXMK2MBY0D</th>\n",
              "      <th>A100WO06OQR8BQ</th>\n",
              "      <th>A1011TQUAC56W5</th>\n",
              "      <th>A1012MH3MXVGFO</th>\n",
              "      <th>A101C1CK60FTW9</th>\n",
              "      <th>A101E5VEEQZZN0</th>\n",
              "      <th>A101ESX5K665S9</th>\n",
              "      <th>A101FJ43LFH1GS</th>\n",
              "      <th>A101PBJDBT30RE</th>\n",
              "      <th>A101RUHV4XZYIL</th>\n",
              "      <th>A101V7GBFGRRUV</th>\n",
              "      <th>A101WG4EQ57NPP</th>\n",
              "      <th>A101XVHS2IKLMZ</th>\n",
              "      <th>...</th>\n",
              "      <th>AZVE87P05IMZ</th>\n",
              "      <th>AZVF5A0WMM5H2</th>\n",
              "      <th>AZVN03RFW4334</th>\n",
              "      <th>AZVNOX3R5B7VU</th>\n",
              "      <th>AZVOKNIZNSZCG</th>\n",
              "      <th>AZVQIHGCMKSYD</th>\n",
              "      <th>AZVRBJN76UWV3</th>\n",
              "      <th>AZVWF96X0IXHJ</th>\n",
              "      <th>AZW1U1OGO8MRO</th>\n",
              "      <th>AZW2RVW8FK2C6</th>\n",
              "      <th>AZW3XDVGDES94</th>\n",
              "      <th>AZWBG6PYODWTX</th>\n",
              "      <th>AZWPCGH4GW8Y9</th>\n",
              "      <th>AZWT00PT6PL4W</th>\n",
              "      <th>AZWZ8OHF59J27</th>\n",
              "      <th>AZX0KV3BA5MQC</th>\n",
              "      <th>AZX5T8LN8AF3W</th>\n",
              "      <th>AZXBBGA7GW0PJ</th>\n",
              "      <th>AZXDBZBI0Y81J</th>\n",
              "      <th>AZXED5SLFZS89</th>\n",
              "      <th>AZXNSJHBKGLO6</th>\n",
              "      <th>AZXWA2WX7I3Z9</th>\n",
              "      <th>AZY1HUEW2XZ6F</th>\n",
              "      <th>AZYIFF6GYUWGV</th>\n",
              "      <th>AZYM5VYLJ9XT8</th>\n",
              "      <th>AZYNJMURU90RQ</th>\n",
              "      <th>AZYPOLLSDVG4K</th>\n",
              "      <th>AZYU8M791SIFC</th>\n",
              "      <th>AZYUF420XJLK4</th>\n",
              "      <th>AZYVVNVT5UCMP</th>\n",
              "      <th>AZYWI6HXHWM8A</th>\n",
              "      <th>AZYXGC2G6GM71</th>\n",
              "      <th>AZYYQMU6ZCBAI</th>\n",
              "      <th>AZZ9A66HZESL4</th>\n",
              "      <th>AZZG4SLJKVRZL</th>\n",
              "      <th>AZZGS8TZTIHOT</th>\n",
              "      <th>AZZRFIA7W68NH</th>\n",
              "      <th>AZZVLOF3WKLFW</th>\n",
              "      <th>AZZVT7PFUPM8D</th>\n",
              "      <th>AZZYW4YOE1B6E</th>\n",
              "    </tr>\n",
              "    <tr>\n",
              "      <th>product_name</th>\n",
              "      <th></th>\n",
              "      <th></th>\n",
              "      <th></th>\n",
              "      <th></th>\n",
              "      <th></th>\n",
              "      <th></th>\n",
              "      <th></th>\n",
              "      <th></th>\n",
              "      <th></th>\n",
              "      <th></th>\n",
              "      <th></th>\n",
              "      <th></th>\n",
              "      <th></th>\n",
              "      <th></th>\n",
              "      <th></th>\n",
              "      <th></th>\n",
              "      <th></th>\n",
              "      <th></th>\n",
              "      <th></th>\n",
              "      <th></th>\n",
              "      <th></th>\n",
              "      <th></th>\n",
              "      <th></th>\n",
              "      <th></th>\n",
              "      <th></th>\n",
              "      <th></th>\n",
              "      <th></th>\n",
              "      <th></th>\n",
              "      <th></th>\n",
              "      <th></th>\n",
              "      <th></th>\n",
              "      <th></th>\n",
              "      <th></th>\n",
              "      <th></th>\n",
              "      <th></th>\n",
              "      <th></th>\n",
              "      <th></th>\n",
              "      <th></th>\n",
              "      <th></th>\n",
              "      <th></th>\n",
              "      <th></th>\n",
              "      <th></th>\n",
              "      <th></th>\n",
              "      <th></th>\n",
              "      <th></th>\n",
              "      <th></th>\n",
              "      <th></th>\n",
              "      <th></th>\n",
              "      <th></th>\n",
              "      <th></th>\n",
              "      <th></th>\n",
              "      <th></th>\n",
              "      <th></th>\n",
              "      <th></th>\n",
              "      <th></th>\n",
              "      <th></th>\n",
              "      <th></th>\n",
              "      <th></th>\n",
              "      <th></th>\n",
              "      <th></th>\n",
              "      <th></th>\n",
              "      <th></th>\n",
              "      <th></th>\n",
              "      <th></th>\n",
              "      <th></th>\n",
              "      <th></th>\n",
              "      <th></th>\n",
              "      <th></th>\n",
              "      <th></th>\n",
              "      <th></th>\n",
              "      <th></th>\n",
              "      <th></th>\n",
              "      <th></th>\n",
              "      <th></th>\n",
              "      <th></th>\n",
              "      <th></th>\n",
              "      <th></th>\n",
              "      <th></th>\n",
              "      <th></th>\n",
              "      <th></th>\n",
              "      <th></th>\n",
              "    </tr>\n",
              "  </thead>\n",
              "  <tbody>\n",
              "    <tr>\n",
              "      <th>Dect 6.0 Cell Fusion Adjunct Box Gateway</th>\n",
              "      <td>0.000</td>\n",
              "      <td>0.000</td>\n",
              "      <td>0.000</td>\n",
              "      <td>0.000</td>\n",
              "      <td>0.000</td>\n",
              "      <td>0.000</td>\n",
              "      <td>0.000</td>\n",
              "      <td>0.000</td>\n",
              "      <td>0.000</td>\n",
              "      <td>0.000</td>\n",
              "      <td>0.000</td>\n",
              "      <td>0.000</td>\n",
              "      <td>0.000</td>\n",
              "      <td>0.000</td>\n",
              "      <td>0.000</td>\n",
              "      <td>0.000</td>\n",
              "      <td>0.000</td>\n",
              "      <td>0.000</td>\n",
              "      <td>0.000</td>\n",
              "      <td>0.000</td>\n",
              "      <td>0.000</td>\n",
              "      <td>0.000</td>\n",
              "      <td>0.000</td>\n",
              "      <td>0.000</td>\n",
              "      <td>0.000</td>\n",
              "      <td>0.000</td>\n",
              "      <td>0.000</td>\n",
              "      <td>0.000</td>\n",
              "      <td>0.000</td>\n",
              "      <td>0.000</td>\n",
              "      <td>0.000</td>\n",
              "      <td>0.000</td>\n",
              "      <td>0.000</td>\n",
              "      <td>0.000</td>\n",
              "      <td>0.000</td>\n",
              "      <td>0.000</td>\n",
              "      <td>0.000</td>\n",
              "      <td>0.000</td>\n",
              "      <td>0.000</td>\n",
              "      <td>0.000</td>\n",
              "      <td>...</td>\n",
              "      <td>0.000</td>\n",
              "      <td>0.000</td>\n",
              "      <td>0.000</td>\n",
              "      <td>0.000</td>\n",
              "      <td>0.000</td>\n",
              "      <td>0.000</td>\n",
              "      <td>0.000</td>\n",
              "      <td>0.000</td>\n",
              "      <td>0.000</td>\n",
              "      <td>0.000</td>\n",
              "      <td>0.000</td>\n",
              "      <td>0.000</td>\n",
              "      <td>0.000</td>\n",
              "      <td>0.000</td>\n",
              "      <td>0.000</td>\n",
              "      <td>0.000</td>\n",
              "      <td>0.000</td>\n",
              "      <td>0.000</td>\n",
              "      <td>0.000</td>\n",
              "      <td>0.000</td>\n",
              "      <td>0.000</td>\n",
              "      <td>0.000</td>\n",
              "      <td>0.000</td>\n",
              "      <td>0.000</td>\n",
              "      <td>0.000</td>\n",
              "      <td>0.000</td>\n",
              "      <td>0.000</td>\n",
              "      <td>0.000</td>\n",
              "      <td>0.000</td>\n",
              "      <td>0.000</td>\n",
              "      <td>0.000</td>\n",
              "      <td>0.000</td>\n",
              "      <td>0.000</td>\n",
              "      <td>0.000</td>\n",
              "      <td>0.000</td>\n",
              "      <td>0.000</td>\n",
              "      <td>0.000</td>\n",
              "      <td>0.000</td>\n",
              "      <td>0.000</td>\n",
              "      <td>0.000</td>\n",
              "    </tr>\n",
              "    <tr>\n",
              "      <th>Energizer 395 / 399 Silver Oxide 5 Batteries (SR927W / SR927SW)</th>\n",
              "      <td>0.000</td>\n",
              "      <td>0.000</td>\n",
              "      <td>0.000</td>\n",
              "      <td>0.000</td>\n",
              "      <td>0.000</td>\n",
              "      <td>0.000</td>\n",
              "      <td>0.000</td>\n",
              "      <td>0.000</td>\n",
              "      <td>0.000</td>\n",
              "      <td>0.000</td>\n",
              "      <td>0.000</td>\n",
              "      <td>0.000</td>\n",
              "      <td>0.000</td>\n",
              "      <td>0.000</td>\n",
              "      <td>0.000</td>\n",
              "      <td>0.000</td>\n",
              "      <td>0.000</td>\n",
              "      <td>0.000</td>\n",
              "      <td>0.000</td>\n",
              "      <td>0.000</td>\n",
              "      <td>0.000</td>\n",
              "      <td>0.000</td>\n",
              "      <td>0.000</td>\n",
              "      <td>0.000</td>\n",
              "      <td>0.000</td>\n",
              "      <td>0.000</td>\n",
              "      <td>0.000</td>\n",
              "      <td>0.000</td>\n",
              "      <td>0.000</td>\n",
              "      <td>0.000</td>\n",
              "      <td>0.000</td>\n",
              "      <td>0.000</td>\n",
              "      <td>0.000</td>\n",
              "      <td>0.000</td>\n",
              "      <td>0.000</td>\n",
              "      <td>0.000</td>\n",
              "      <td>0.000</td>\n",
              "      <td>0.000</td>\n",
              "      <td>0.000</td>\n",
              "      <td>0.000</td>\n",
              "      <td>...</td>\n",
              "      <td>0.000</td>\n",
              "      <td>0.000</td>\n",
              "      <td>0.000</td>\n",
              "      <td>0.000</td>\n",
              "      <td>0.000</td>\n",
              "      <td>0.000</td>\n",
              "      <td>0.000</td>\n",
              "      <td>0.000</td>\n",
              "      <td>0.000</td>\n",
              "      <td>0.000</td>\n",
              "      <td>0.000</td>\n",
              "      <td>0.000</td>\n",
              "      <td>0.000</td>\n",
              "      <td>0.000</td>\n",
              "      <td>0.000</td>\n",
              "      <td>0.000</td>\n",
              "      <td>0.000</td>\n",
              "      <td>0.000</td>\n",
              "      <td>0.000</td>\n",
              "      <td>0.000</td>\n",
              "      <td>0.000</td>\n",
              "      <td>0.000</td>\n",
              "      <td>0.000</td>\n",
              "      <td>0.000</td>\n",
              "      <td>0.000</td>\n",
              "      <td>0.000</td>\n",
              "      <td>0.000</td>\n",
              "      <td>0.000</td>\n",
              "      <td>0.000</td>\n",
              "      <td>0.000</td>\n",
              "      <td>4.000</td>\n",
              "      <td>0.000</td>\n",
              "      <td>0.000</td>\n",
              "      <td>0.000</td>\n",
              "      <td>0.000</td>\n",
              "      <td>0.000</td>\n",
              "      <td>0.000</td>\n",
              "      <td>0.000</td>\n",
              "      <td>0.000</td>\n",
              "      <td>0.000</td>\n",
              "    </tr>\n",
              "    <tr>\n",
              "      <th>Griffin WindowSeat Windshield car mount for iPhone 3G with iPod touch 1G Adapter and Auxiliary Audio Cable</th>\n",
              "      <td>0.000</td>\n",
              "      <td>0.000</td>\n",
              "      <td>0.000</td>\n",
              "      <td>0.000</td>\n",
              "      <td>0.000</td>\n",
              "      <td>0.000</td>\n",
              "      <td>0.000</td>\n",
              "      <td>0.000</td>\n",
              "      <td>0.000</td>\n",
              "      <td>0.000</td>\n",
              "      <td>0.000</td>\n",
              "      <td>0.000</td>\n",
              "      <td>0.000</td>\n",
              "      <td>0.000</td>\n",
              "      <td>0.000</td>\n",
              "      <td>0.000</td>\n",
              "      <td>0.000</td>\n",
              "      <td>0.000</td>\n",
              "      <td>0.000</td>\n",
              "      <td>0.000</td>\n",
              "      <td>0.000</td>\n",
              "      <td>0.000</td>\n",
              "      <td>0.000</td>\n",
              "      <td>0.000</td>\n",
              "      <td>0.000</td>\n",
              "      <td>0.000</td>\n",
              "      <td>0.000</td>\n",
              "      <td>0.000</td>\n",
              "      <td>0.000</td>\n",
              "      <td>0.000</td>\n",
              "      <td>0.000</td>\n",
              "      <td>0.000</td>\n",
              "      <td>0.000</td>\n",
              "      <td>0.000</td>\n",
              "      <td>0.000</td>\n",
              "      <td>0.000</td>\n",
              "      <td>0.000</td>\n",
              "      <td>0.000</td>\n",
              "      <td>0.000</td>\n",
              "      <td>0.000</td>\n",
              "      <td>...</td>\n",
              "      <td>0.000</td>\n",
              "      <td>0.000</td>\n",
              "      <td>0.000</td>\n",
              "      <td>0.000</td>\n",
              "      <td>0.000</td>\n",
              "      <td>0.000</td>\n",
              "      <td>0.000</td>\n",
              "      <td>0.000</td>\n",
              "      <td>0.000</td>\n",
              "      <td>0.000</td>\n",
              "      <td>0.000</td>\n",
              "      <td>0.000</td>\n",
              "      <td>0.000</td>\n",
              "      <td>0.000</td>\n",
              "      <td>0.000</td>\n",
              "      <td>0.000</td>\n",
              "      <td>0.000</td>\n",
              "      <td>0.000</td>\n",
              "      <td>0.000</td>\n",
              "      <td>0.000</td>\n",
              "      <td>0.000</td>\n",
              "      <td>0.000</td>\n",
              "      <td>0.000</td>\n",
              "      <td>0.000</td>\n",
              "      <td>0.000</td>\n",
              "      <td>0.000</td>\n",
              "      <td>0.000</td>\n",
              "      <td>0.000</td>\n",
              "      <td>0.000</td>\n",
              "      <td>0.000</td>\n",
              "      <td>0.000</td>\n",
              "      <td>0.000</td>\n",
              "      <td>0.000</td>\n",
              "      <td>0.000</td>\n",
              "      <td>0.000</td>\n",
              "      <td>0.000</td>\n",
              "      <td>0.000</td>\n",
              "      <td>0.000</td>\n",
              "      <td>0.000</td>\n",
              "      <td>0.000</td>\n",
              "    </tr>\n",
              "    <tr>\n",
              "      <th>HDE Universal Mobile Cell Phone Battery Charger</th>\n",
              "      <td>0.000</td>\n",
              "      <td>0.000</td>\n",
              "      <td>0.000</td>\n",
              "      <td>0.000</td>\n",
              "      <td>0.000</td>\n",
              "      <td>0.000</td>\n",
              "      <td>0.000</td>\n",
              "      <td>0.000</td>\n",
              "      <td>0.000</td>\n",
              "      <td>0.000</td>\n",
              "      <td>0.000</td>\n",
              "      <td>0.000</td>\n",
              "      <td>0.000</td>\n",
              "      <td>0.000</td>\n",
              "      <td>0.000</td>\n",
              "      <td>0.000</td>\n",
              "      <td>0.000</td>\n",
              "      <td>0.000</td>\n",
              "      <td>0.000</td>\n",
              "      <td>0.000</td>\n",
              "      <td>0.000</td>\n",
              "      <td>0.000</td>\n",
              "      <td>0.000</td>\n",
              "      <td>0.000</td>\n",
              "      <td>0.000</td>\n",
              "      <td>0.000</td>\n",
              "      <td>0.000</td>\n",
              "      <td>0.000</td>\n",
              "      <td>0.000</td>\n",
              "      <td>0.000</td>\n",
              "      <td>0.000</td>\n",
              "      <td>0.000</td>\n",
              "      <td>0.000</td>\n",
              "      <td>0.000</td>\n",
              "      <td>0.000</td>\n",
              "      <td>0.000</td>\n",
              "      <td>0.000</td>\n",
              "      <td>0.000</td>\n",
              "      <td>0.000</td>\n",
              "      <td>0.000</td>\n",
              "      <td>...</td>\n",
              "      <td>0.000</td>\n",
              "      <td>0.000</td>\n",
              "      <td>0.000</td>\n",
              "      <td>0.000</td>\n",
              "      <td>0.000</td>\n",
              "      <td>0.000</td>\n",
              "      <td>0.000</td>\n",
              "      <td>0.000</td>\n",
              "      <td>0.000</td>\n",
              "      <td>0.000</td>\n",
              "      <td>0.000</td>\n",
              "      <td>0.000</td>\n",
              "      <td>0.000</td>\n",
              "      <td>0.000</td>\n",
              "      <td>0.000</td>\n",
              "      <td>0.000</td>\n",
              "      <td>0.000</td>\n",
              "      <td>0.000</td>\n",
              "      <td>0.000</td>\n",
              "      <td>0.000</td>\n",
              "      <td>0.000</td>\n",
              "      <td>0.000</td>\n",
              "      <td>0.000</td>\n",
              "      <td>0.000</td>\n",
              "      <td>0.000</td>\n",
              "      <td>0.000</td>\n",
              "      <td>0.000</td>\n",
              "      <td>0.000</td>\n",
              "      <td>0.000</td>\n",
              "      <td>0.000</td>\n",
              "      <td>0.000</td>\n",
              "      <td>0.000</td>\n",
              "      <td>0.000</td>\n",
              "      <td>0.000</td>\n",
              "      <td>0.000</td>\n",
              "      <td>0.000</td>\n",
              "      <td>0.000</td>\n",
              "      <td>0.000</td>\n",
              "      <td>0.000</td>\n",
              "      <td>0.000</td>\n",
              "    </tr>\n",
              "    <tr>\n",
              "      <th>Horizontal Leather Pouch For Brand Samsung BlackJack i607 or BlackJack 2 i617 Cell Phone Case Cover with Belt Clip Magnetic Closing</th>\n",
              "      <td>0.000</td>\n",
              "      <td>0.000</td>\n",
              "      <td>0.000</td>\n",
              "      <td>0.000</td>\n",
              "      <td>0.000</td>\n",
              "      <td>0.000</td>\n",
              "      <td>0.000</td>\n",
              "      <td>0.000</td>\n",
              "      <td>0.000</td>\n",
              "      <td>0.000</td>\n",
              "      <td>0.000</td>\n",
              "      <td>0.000</td>\n",
              "      <td>0.000</td>\n",
              "      <td>0.000</td>\n",
              "      <td>0.000</td>\n",
              "      <td>0.000</td>\n",
              "      <td>0.000</td>\n",
              "      <td>0.000</td>\n",
              "      <td>0.000</td>\n",
              "      <td>0.000</td>\n",
              "      <td>0.000</td>\n",
              "      <td>0.000</td>\n",
              "      <td>0.000</td>\n",
              "      <td>0.000</td>\n",
              "      <td>0.000</td>\n",
              "      <td>0.000</td>\n",
              "      <td>0.000</td>\n",
              "      <td>0.000</td>\n",
              "      <td>0.000</td>\n",
              "      <td>0.000</td>\n",
              "      <td>0.000</td>\n",
              "      <td>0.000</td>\n",
              "      <td>0.000</td>\n",
              "      <td>0.000</td>\n",
              "      <td>0.000</td>\n",
              "      <td>0.000</td>\n",
              "      <td>0.000</td>\n",
              "      <td>0.000</td>\n",
              "      <td>0.000</td>\n",
              "      <td>0.000</td>\n",
              "      <td>...</td>\n",
              "      <td>0.000</td>\n",
              "      <td>0.000</td>\n",
              "      <td>0.000</td>\n",
              "      <td>0.000</td>\n",
              "      <td>0.000</td>\n",
              "      <td>0.000</td>\n",
              "      <td>0.000</td>\n",
              "      <td>0.000</td>\n",
              "      <td>0.000</td>\n",
              "      <td>0.000</td>\n",
              "      <td>0.000</td>\n",
              "      <td>0.000</td>\n",
              "      <td>0.000</td>\n",
              "      <td>0.000</td>\n",
              "      <td>0.000</td>\n",
              "      <td>0.000</td>\n",
              "      <td>0.000</td>\n",
              "      <td>0.000</td>\n",
              "      <td>0.000</td>\n",
              "      <td>0.000</td>\n",
              "      <td>0.000</td>\n",
              "      <td>0.000</td>\n",
              "      <td>0.000</td>\n",
              "      <td>0.000</td>\n",
              "      <td>0.000</td>\n",
              "      <td>0.000</td>\n",
              "      <td>0.000</td>\n",
              "      <td>0.000</td>\n",
              "      <td>0.000</td>\n",
              "      <td>0.000</td>\n",
              "      <td>0.000</td>\n",
              "      <td>0.000</td>\n",
              "      <td>0.000</td>\n",
              "      <td>0.000</td>\n",
              "      <td>0.000</td>\n",
              "      <td>0.000</td>\n",
              "      <td>0.000</td>\n",
              "      <td>0.000</td>\n",
              "      <td>0.000</td>\n",
              "      <td>0.000</td>\n",
              "    </tr>\n",
              "  </tbody>\n",
              "</table>\n",
              "<p>5 rows × 52921 columns</p>\n",
              "</div>"
            ],
            "text/plain": [
              "user_id                                             A00667434IRZ5OQ49GOS  ...  AZZYW4YOE1B6E\n",
              "product_name                                                              ...               \n",
              " Dect 6.0 Cell Fusion Adjunct Box Gateway                          0.000  ...          0.000\n",
              " Energizer 395 / 399 Silver Oxide 5 Batteries (...                 0.000  ...          0.000\n",
              " Griffin WindowSeat Windshield car mount for iP...                 0.000  ...          0.000\n",
              " HDE Universal Mobile Cell Phone Battery Charger                   0.000  ...          0.000\n",
              " Horizontal Leather Pouch For Brand Samsung Bla...                 0.000  ...          0.000\n",
              "\n",
              "[5 rows x 52921 columns]"
            ]
          },
          "metadata": {
            "tags": []
          },
          "execution_count": 194
        }
      ]
    },
    {
      "cell_type": "markdown",
      "metadata": {
        "id": "-58Vtc06tpM7"
      },
      "source": [
        "## Building the Model\n",
        "We use the scipy library to build our knn model \n",
        "steps in building the model:\n",
        "1. convert the user-item matrix into a CSR matrix (non sparse matrix)\n",
        "2. select the hyper-parameters like the metric and the algorithm\n",
        "3. finally, train the model."
      ]
    },
    {
      "cell_type": "code",
      "metadata": {
        "id": "TWhgaMBbArrt",
        "outputId": "41dba659-7d07-4ed3-9bed-b3504a77fd6b",
        "colab": {
          "base_uri": "https://localhost:8080/"
        }
      },
      "source": [
        "from scipy.sparse import csr_matrix\n",
        "product_features_df_matrix = csr_matrix(product_features_df.values)\n",
        "from sklearn.neighbors import NearestNeighbors\n",
        "model_knn = NearestNeighbors(metric = metric, algorithm = algorithm, n_neighbors = n_neighbors)\n",
        "model_knn.fit(product_features_df_matrix)"
      ],
      "execution_count": null,
      "outputs": [
        {
          "output_type": "execute_result",
          "data": {
            "text/plain": [
              "NearestNeighbors(algorithm='brute', leaf_size=30, metric='cosine',\n",
              "                 metric_params=None, n_jobs=None, n_neighbors=10, p=2,\n",
              "                 radius=1.0)"
            ]
          },
          "metadata": {
            "tags": []
          },
          "execution_count": 180
        }
      ]
    },
    {
      "cell_type": "code",
      "metadata": {
        "id": "GIOuEnOSB6G6",
        "outputId": "56b9ba8c-d643-4eb0-b7ce-0049ac23b18b",
        "colab": {
          "base_uri": "https://localhost:8080/"
        }
      },
      "source": [
        "##  Select a random index from the dataframe to test \n",
        "\n",
        "query_index = np.random.choice(product_features_df.shape[0])\n",
        "print(query_index)\n",
        "distances, indices = model_knn.kneighbors(product_features_df.iloc[query_index,:].values.reshape(1, -1), n_neighbors = n_neighbors)"
      ],
      "execution_count": null,
      "outputs": [
        {
          "output_type": "stream",
          "text": [
            "94\n"
          ],
          "name": "stdout"
        }
      ]
    },
    {
      "cell_type": "code",
      "metadata": {
        "id": "3wqSwCXtCIXd",
        "outputId": "2b41dc2c-361d-4e6e-8f43-8b16ea22f282",
        "colab": {
          "base_uri": "https://localhost:8080/"
        }
      },
      "source": [
        "for i in range(0, len(distances.flatten())):\n",
        "    if i == 0:\n",
        "        print('Recommendations for {0}:\\n'.format(product_features_df.index[query_index]))\n",
        "    else:\n",
        "        print('{0}: {1}, with distance of {2}:'.format(i, product_features_df.index[indices.flatten()[i]], distances.flatten()[i]))"
      ],
      "execution_count": null,
      "outputs": [
        {
          "output_type": "stream",
          "text": [
            "Recommendations for Motorola BLT-04 Bluetooth Headset Carrying Case:\n",
            "\n",
            "1: HEADSET, HS850 BLUETOOTH, with distance of 0.9464533802914067:\n",
            "2: Motorola HS850 Bluetooth Headset (Color Sent Based on Availability. Comes in Black, Blue and Grey, or Silver)[Bulk Packaged], with distance of 0.9709990431846972:\n",
            "3: Motorola H700 Bluetooth Headset [Bulk Packaged], with distance of 0.9813324060667772:\n",
            "4: Motorola H500 Bluetooth Wireless Headset (Soft Black) (Discontinued by Manufacturer), with distance of 0.9820510460345565:\n",
            "5: Motorola Bluetooth H710 Headset [Retail Packaging], with distance of 0.9853914133756148:\n",
            "6: Motorola Mobile Phone Tools 4.0 for Motorola Phones [Motorola Retail Packaging], with distance of 0.9877919730867477:\n",
            "7: BLACK SILICON SKIN Cover Case for Sprint Palm Centro 690 - Flexible Soft, with distance of 0.9883432068269434:\n",
            "8: Motorola H300 Bluetooth Wireless Headset ( Use AAA Battery ), with distance of 0.9928038481869269:\n",
            "9: Motorola H 98689 T820 Bluetooth Stereo Headset  (Black), with distance of 0.9928449716949539:\n"
          ],
          "name": "stdout"
        }
      ]
    },
    {
      "cell_type": "markdown",
      "metadata": {
        "id": "Bxaje77eP7Qn"
      },
      "source": [
        "# Evaluating the model\n",
        "1. To evaluate the model we have used the cosine similarity metric.\n",
        "2. cos(A,B) = (A.B)/( |A|.|B| )\n",
        "3. it varies from 0 <= cos() <= 1.\n",
        "    1. 0 means our product and the recommended product are completely different\n",
        "    2. 1 means they are very similar to each other"
      ]
    },
    {
      "cell_type": "code",
      "metadata": {
        "id": "c01PFSplB3z6",
        "outputId": "dabdfde6-ff85-49eb-9f83-30f807ca5e0d",
        "colab": {
          "base_uri": "https://localhost:8080/",
          "height": 437
        }
      },
      "source": [
        "# plot distance of all the recommendations obtained from the classifier\n",
        "plt.figure(figsize=(8, 6))\n",
        "arr = np.array([1,2,3,4,5,6,7,8,9])\n",
        "plt.scatter(arr, distances[0][1:]*100, s=70)\n",
        "plt.xlabel(\"i-th recommended item\", labelpad = 15)\n",
        "plt.ylabel(\"cosine similarity score (%)\", labelpad = 15)\n",
        "plt.title(\"Pairwise Cosine similarity scores (%) of recommended items\", y=1.05);\n",
        "plt.tick_params(labelsize=12, pad=6);\n",
        "plt.tick_params(labelcolor=\"white\");\n",
        "plt.show()"
      ],
      "execution_count": null,
      "outputs": [
        {
          "output_type": "display_data",
          "data": {
            "image/png": "[encoded data removed]",
            "text/plain": [
              "<Figure size 576x432 with 1 Axes>"
            ]
          },
          "metadata": {
            "tags": [],
            "needs_background": "dark"
          }
        }
      ]
    },
    {
      "cell_type": "markdown",
      "metadata": {
        "id": "xRt06V287xuX"
      },
      "source": [
        "# Save the Model\n",
        "We finally need to save the model to deploy it to production.\n",
        "To do this we save our trained knn model as a pickle file and use that knn file in our project."
      ]
    },
    {
      "cell_type": "code",
      "metadata": {
        "id": "qfHYEijTAIY_"
      },
      "source": [
        "import pickle"
      ],
      "execution_count": null,
      "outputs": []
    },
    {
      "cell_type": "code",
      "metadata": {
        "id": "wZaMySHV8NfK"
      },
      "source": [
        "filename='model.pkl'\n",
        "knnPickle = open(filename, 'wb') # wb means : write in binary \n",
        "pickle.dump(model_knn, knnPickle) # dump methods says to store the model named model_knn to file named knnpickle"
      ],
      "execution_count": null,
      "outputs": []
    },
    {
      "cell_type": "code",
      "metadata": {
        "id": "dh3seTImR3C6"
      },
      "source": [
        "filename='dataframe.pkl'\n",
        "dfPickle = open(filename, 'wb') \n",
        "pickle.dump(product_features_df, dfPickle)"
      ],
      "execution_count": null,
      "outputs": []
    },
    {
      "cell_type": "markdown",
      "metadata": {
        "id": "-vyC3MVvTNEk"
      },
      "source": [
        "# Making predictions\n",
        "Finally, we load the saved model and use that to make some predictions"
      ]
    },
    {
      "cell_type": "code",
      "metadata": {
        "id": "naSb4lvdTS1B",
        "outputId": "f12cb019-452c-4ce2-f54d-adef60ab117f",
        "colab": {
          "base_uri": "https://localhost:8080/"
        }
      },
      "source": [
        "query_index = 3\n",
        "import pickle\n",
        "loaded_model = pickle.load(open(\"model.pkl\",\"rb\"))\n",
        "loaded_df = pickle.load(open(\"dataframe.pkl\",\"rb\"))\n",
        "distances, indices = loaded_model.kneighbors(loaded_df.iloc[query_index,:].values.reshape(1, -1), n_neighbors = n_neighbors)\n",
        "for i in range(0, len(distances.flatten())):\n",
        "    if i == 0:\n",
        "        print('Recommendations for {0}:\\n'.format(product_features_df.index[query_index]))\n",
        "    else:\n",
        "        print('{0}: {1}'.format(i, product_features_df.index[indices.flatten()[i]]))"
      ],
      "execution_count": null,
      "outputs": [
        {
          "output_type": "stream",
          "text": [
            "Recommendations for  HDE Universal Mobile Cell Phone Battery Charger:\n",
            "\n",
            "1: Replacement Battery for Microsoft Zune 2nd 16G/32G/64G, DOCA 3.7V Rechargeable Battery with Opening Pry Tool Kits - Compatible for Zune 2nd HD\n",
            "2: Motorola Buds SF500 Universal Bluetooth Ear Bud Stereo Headset - Retail Packaging - White\n",
            "3: Motorola BLT-04 Bluetooth Headset Carrying Case\n",
            "4: OtterBox Defender Case for BlackBerry Curve 8300 Series (Black)\n",
            "5: OtterBox 2000-20 WaterProof Universal Case - Black (Discontinued by Manufacturer)\n",
            "6: OEM Original Detachable Ac Power Cord (8-CDP-P300) for Zojirushi hot Water Dispensing Pot CD-LCC30/40/50, CD-EPC22/30, CD-FAC22, CD-JSC22/30, CD-WBC30/40, CV-DSC40, CW-PZC22/30\n",
            "7: OEM MOTOROLA BR50 Battery RAZR V3 V3c V3m V3e V3i V3t\n",
            "8: OEM MOTOROLA SNN5696 BR50 RAZR V3 V3c V3m BATTERY\n",
            "9: Nokia E51 Unlocked Phone with 2 MP Camera, 3G, Wi-Fi, MP3/Video Player, and MicroSD Slot--U.S. Version with Warranty (Black Steel)\n"
          ],
          "name": "stdout"
        }
      ]
    }
  ]
}